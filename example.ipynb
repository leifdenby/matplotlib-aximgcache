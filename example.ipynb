{
 "cells": [
  {
   "cell_type": "code",
   "execution_count": 1,
   "id": "10676968-a34e-427d-a8af-03d0d3c37846",
   "metadata": {},
   "outputs": [],
   "source": [
    "import matplotlib.pyplot as plt\n",
    "import matplotlib_aximgcache as mpl_aic"
   ]
  },
  {
   "cell_type": "code",
   "execution_count": 2,
   "id": "b77fcd4a",
   "metadata": {},
   "outputs": [
    {
     "data": {
      "image/png": "[encoded data removed]",
      "text/plain": [
       "<Figure size 432x288 with 1 Axes>"
      ]
     },
     "metadata": {
      "needs_background": "light"
     },
     "output_type": "display_data"
    }
   ],
   "source": [
    "fig, ax = plt.subplots()\n",
    "\n",
    "import matplotlib.patches as mpatches\n",
    "\n",
    "ax.set_xlim(0, 400)\n",
    "ax.set_ylim(0, 200)\n",
    "\n",
    "# Create a reference image with some shapes that extend to the edges\n",
    "# of the figure and with whitespace in the middle so that we can\n",
    "# test that transparency works\n",
    "rects = [\n",
    "    mpatches.Rectangle((0, 0), 100, 200, linewidth=1, edgecolor=\"none\", facecolor=\"b\"),\n",
    "    mpatches.Rectangle(\n",
    "        (400, 0), -100, 200, linewidth=1, edgecolor=\"none\", facecolor=\"b\"\n",
    "    ),\n",
    "    mpatches.Rectangle((50, 50), 100, 100, linewidth=1, edgecolor=\"g\", facecolor=\"r\"),\n",
    "    mpatches.Rectangle((250, 50), 100, 100, linewidth=1, edgecolor=\"g\", facecolor=\"r\"),\n",
    "]\n",
    "\n",
    "for rect in rects:\n",
    "    ax.add_patch(rect)\n",
    "\n",
    "# save the content of the axes to a PNG-image so that it can be replotted\n",
    "# into a new axes later\n",
    "mpl_aic.save_ax_to_image(ax=ax, fpath=\"test.png\")\n",
    "\n",
    "# save the initial plot so that we can show it in the README\n",
    "fig.savefig(\"initial.png\")"
   ]
  },
  {
   "cell_type": "code",
   "execution_count": 3,
   "id": "9a448e13-7e47-404d-85af-67a5194c53f6",
   "metadata": {},
   "outputs": [
    {
     "data": {
      "image/png": "[encoded data removed]",
      "text/plain": [
       "<Figure size 576x576 with 1 Axes>"
      ]
     },
     "metadata": {
      "needs_background": "light"
     },
     "output_type": "display_data"
    }
   ],
   "source": [
    "# create a new figure with an axes with different extents that the original axes\n",
    "fig, ax = plt.subplots(figsize=(8, 8))\n",
    "ax.set_xlim(-200, 500)\n",
    "ax.set_ylim(-200, 400)\n",
    "\n",
    "# add a few green rectangles to show that with changed axes extents\n",
    "# the loaded image is plotted in the correct place and has transparency\n",
    "rect = mpatches.Rectangle(\n",
    "    (100, 0), 20, 300, linewidth=1, edgecolor=\"none\", facecolor=\"g\"\n",
    ")\n",
    "ax.add_patch(rect)\n",
    "rect = mpatches.Rectangle(\n",
    "    (300, 0), -20, 300, linewidth=1, edgecolor=\"none\", facecolor=\"g\", zorder=2\n",
    ")\n",
    "ax.add_patch(rect)\n",
    "\n",
    "# add the content of the previous figure's axes from the image stored above\n",
    "# note that the loaded content is plotted with `zorder=1`, you can change\n",
    "# this if you want to change the z-ordering relative to other things in your\n",
    "# new figure\n",
    "mpl_aic.load_and_plot_image(ax=ax, fpath=\"test.png\")\n",
    "\n",
    "# save the final figure to an image so we can show it in the README\n",
    "fig.savefig(\"final.png\")"
   ]
  },
  {
   "cell_type": "code",
   "execution_count": null,
   "id": "f9a20bcf-94b2-47ad-900b-b410edd2d355",
   "metadata": {},
   "outputs": [],
   "source": []
  }
 ],
 "metadata": {
  "kernelspec": {
   "display_name": "python3.9",
   "language": "python",
   "name": "python3.9"
  },
  "language_info": {
   "codemirror_mode": {
    "name": "ipython",
    "version": 3
   },
   "file_extension": ".py",
   "mimetype": "text/x-python",
   "name": "python",
   "nbconvert_exporter": "python",
   "pygments_lexer": "ipython3",
   "version": "3.9.12"
  }
 },
 "nbformat": 4,
 "nbformat_minor": 5
}
